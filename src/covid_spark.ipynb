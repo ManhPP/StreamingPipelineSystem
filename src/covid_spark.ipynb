{
 "cells": [
  {
   "cell_type": "code",
   "execution_count": 1,
   "id": "2be696d4",
   "metadata": {},
   "outputs": [
    {
     "name": "stdout",
     "output_type": "stream",
     "text": [
      "Requirement already satisfied: nltk in /opt/conda/lib/python3.9/site-packages (3.6.2)\n",
      "Requirement already satisfied: regex in /opt/conda/lib/python3.9/site-packages (from nltk) (2021.8.27)\n",
      "Requirement already satisfied: joblib in /opt/conda/lib/python3.9/site-packages (from nltk) (1.0.1)\n",
      "Requirement already satisfied: tqdm in /opt/conda/lib/python3.9/site-packages (from nltk) (4.62.1)\n",
      "Requirement already satisfied: click in /opt/conda/lib/python3.9/site-packages (from nltk) (8.0.1)\n"
     ]
    }
   ],
   "source": [
    "!pip install nltk"
   ]
  },
  {
   "cell_type": "code",
   "execution_count": 2,
   "id": "39fe762c",
   "metadata": {},
   "outputs": [
    {
     "name": "stderr",
     "output_type": "stream",
     "text": [
      "WARNING: An illegal reflective access operation has occurred\n",
      "WARNING: Illegal reflective access by org.apache.spark.unsafe.Platform (file:/usr/local/spark-3.1.2-bin-hadoop3.2/jars/spark-unsafe_2.12-3.1.2.jar) to constructor java.nio.DirectByteBuffer(long,int)\n",
      "WARNING: Please consider reporting this to the maintainers of org.apache.spark.unsafe.Platform\n",
      "WARNING: Use --illegal-access=warn to enable warnings of further illegal reflective access operations\n",
      "WARNING: All illegal access operations will be denied in a future release\n",
      "21/08/27 03:27:12 WARN NativeCodeLoader: Unable to load native-hadoop library for your platform... using builtin-java classes where applicable\n",
      "Using Spark's default log4j profile: org/apache/spark/log4j-defaults.properties\n",
      "Setting default log level to \"WARN\".\n",
      "To adjust logging level use sc.setLogLevel(newLevel). For SparkR, use setLogLevel(newLevel).\n"
     ]
    }
   ],
   "source": [
    "from pyspark.sql import SparkSession\n",
    "\n",
    "spark = SparkSession\\\n",
    "       .builder\\\n",
    "       .appName(\"test\")\\\n",
    "       .getOrCreate()"
   ]
  },
  {
   "cell_type": "code",
   "execution_count": 3,
   "id": "aea33d28",
   "metadata": {},
   "outputs": [
    {
     "name": "stderr",
     "output_type": "stream",
     "text": [
      "                                                                                \r"
     ]
    }
   ],
   "source": [
    "df = spark.read.json(\"hdfs://namenode:8020/tmp/data/covid\")"
   ]
  },
  {
   "cell_type": "code",
   "execution_count": 4,
   "id": "454b8fdc",
   "metadata": {},
   "outputs": [
    {
     "name": "stdout",
     "output_type": "stream",
     "text": [
      "+--------------------+\n",
      "|               value|\n",
      "+--------------------+\n",
      "|{\"userID\": 724245...|\n",
      "|{\"userID\": 838192...|\n",
      "|{\"userID\": 985121...|\n",
      "|{\"userID\": 852189...|\n",
      "|{\"userID\": 119300...|\n",
      "|{\"userID\": 134640...|\n",
      "|{\"userID\": 154605...|\n",
      "|{\"userID\": 824736...|\n",
      "|{\"userID\": 171610...|\n",
      "|{\"userID\": 262104...|\n",
      "|{\"userID\": 657673...|\n",
      "|{\"userID\": 901077...|\n",
      "|{\"userID\": 852199...|\n",
      "|{\"userID\": 132245...|\n",
      "|{\"userID\": 556794...|\n",
      "|{\"userID\": 805462...|\n",
      "|{\"userID\": 603528...|\n",
      "|{\"userID\": 391598...|\n",
      "|{\"userID\": 132735...|\n",
      "|{\"userID\": 314405...|\n",
      "+--------------------+\n",
      "only showing top 20 rows\n",
      "\n"
     ]
    }
   ],
   "source": [
    "df.show()"
   ]
  },
  {
   "cell_type": "code",
   "execution_count": 5,
   "id": "a4c3a213",
   "metadata": {},
   "outputs": [],
   "source": [
    "from pyspark.sql import functions as F\n",
    "from pyspark.sql.types import *\n",
    "\n",
    "schema= df.select(F.schema_of_json(\"\"\"{\n",
    "   \"userID\": 724245818299969500,\n",
    "   \"tweetText\": \"Text\",\n",
    "   \"hashTags\": [\n",
    "      \"propaganda\",\n",
    "      \"China\",\n",
    "      \"ChinaLiedPeopleDied\",\n",
    "      \"COVID\",\n",
    "      \"ChinaVirus\"\n",
    "   ],\n",
    "   \"location_full_name\": \"Merica\",\n",
    "   \"favoriteCount\": 0,\n",
    "   \"reTweetCount\": 0,\n",
    "   \"created_at\": \"Fri Aug 27 03:21:20 +0000 2021\"\n",
    "}\"\"\")).collect()[0][0]"
   ]
  },
  {
   "cell_type": "code",
   "execution_count": 6,
   "id": "319f7b9d",
   "metadata": {},
   "outputs": [
    {
     "data": {
      "text/plain": [
       "'STRUCT<`created_at`: STRING, `favoriteCount`: BIGINT, `hashTags`: ARRAY<STRING>, `location_full_name`: STRING, `reTweetCount`: BIGINT, `tweetText`: STRING, `userID`: BIGINT>'"
      ]
     },
     "execution_count": 6,
     "metadata": {},
     "output_type": "execute_result"
    }
   ],
   "source": [
    "schema"
   ]
  },
  {
   "cell_type": "code",
   "execution_count": 7,
   "id": "4dae4af4",
   "metadata": {},
   "outputs": [],
   "source": [
    "df = df.withColumn(\"value\", F.from_json(\"value\",schema))\\\n",
    ".select(\"value.userID\", \"value.tweetText\", \"value.hashTags\", \"value.location_full_name\",\n",
    "        \"value.favoriteCount\", \"value.reTweetCount\", \"value.created_at\",)"
   ]
  },
  {
   "cell_type": "code",
   "execution_count": 8,
   "id": "ad4a8c38",
   "metadata": {},
   "outputs": [
    {
     "name": "stdout",
     "output_type": "stream",
     "text": [
      "+-------------------+--------------------+--------------------+--------------------+-------------+------------+--------------------+\n",
      "|             userID|           tweetText|            hashTags|  location_full_name|favoriteCount|reTweetCount|          created_at|\n",
      "+-------------------+--------------------+--------------------+--------------------+-------------+------------+--------------------+\n",
      "| 724245818299969537|Claiming that's i...|[propaganda, Chin...|             'Merica|            0|           0|Fri Aug 27 03:21:...|\n",
      "| 838192517791174657|RT @AntonyRobart:...|[VaccinePassports...|              Canada|            0|           0|Fri Aug 27 03:21:...|\n",
      "| 985121348690366464|RT @EuroELSO: Lat...|     [ECMO, COVID19]|        L'Hospitalet|            0|           0|Fri Aug 27 03:21:...|\n",
      "|           85218923|#Most worrisome i...|[Most, SouthKorea...|Jeju Island, Sout...|            0|           0|Fri Aug 27 03:21:...|\n",
      "|         1193007020|RT @DrAmbrishMith...|[VaccinationDrive...|               India|            0|           0|Fri Aug 27 03:21:...|\n",
      "|1346408131367153666|@KavalAuthorActs ...|  [COVID19, COVID19]|Cape Town, South ...|            0|           0|Fri Aug 27 03:21:...|\n",
      "|          154605312|RT @SantaKlauSchw...|           [COVID19]|            STL, USA|            0|           0|Fri Aug 27 03:21:...|\n",
      "| 824736766716309504|RT @SamirShahMD: ...|           [COVID19]|Land of Enchantme...|            0|           0|Fri Aug 27 03:21:...|\n",
      "|          171610230|RT @mustafahirji:...|      [unvaccinated]|       St.Catharines|            0|           0|Fri Aug 27 03:22:...|\n",
      "|          262104114|@samanthamaiden @...|[COVID19nsw, COVI...|   Sydney, Australia|            0|           0|Fri Aug 27 03:22:...|\n",
      "|           65767300|RT @AntonyRobart:...|[VaccinePassports...|True north strong...|            0|           0|Fri Aug 27 03:22:...|\n",
      "|           90107770|@Debceecee @NSWHe...|[GladysTheSuperSp...|     The Blue Marble|            0|           0|Fri Aug 27 03:21:...|\n",
      "| 852199175966085121|RT @JulesBoykoff:...|[Tokyo2020, Paral...|   anywhere but here|            0|           0|Fri Aug 27 03:21:...|\n",
      "|1322458264416780293|RT @SarfarazTooba...|[delaymdcat2021, ...|   Sialkot, Pakistan|            0|           0|Fri Aug 27 03:23:...|\n",
      "|           55679493|@RepJayapal @USPr...|[MedicareForAll, ...|         Chicago, IL|            0|           0|Fri Aug 27 03:23:...|\n",
      "| 805462910902222848|Thanks to Mo @CMO...|[Odisha, Covid3rd...| Bhubaneshwar, India|            0|           0|Fri Aug 27 03:24:...|\n",
      "|          603528922|RT @Lasterbosire:...|           [Covid19]|       Nairobi Kenya|            0|           0|Fri Aug 27 03:24:...|\n",
      "|          391598269|The headline of t...|           [COVID19]|            Malaysia|            0|           0|Fri Aug 27 03:23:...|\n",
      "|1327356010479067136|@WHO  care about ...|[COVID19, Ronaldo...|     Gujarat India. |            0|           0|Fri Aug 27 03:23:...|\n",
      "|           31440516|RT @portarican_RT...|           [COVID19]|          Tucson, AZ|            0|           0|Fri Aug 27 03:23:...|\n",
      "+-------------------+--------------------+--------------------+--------------------+-------------+------------+--------------------+\n",
      "only showing top 20 rows\n",
      "\n"
     ]
    }
   ],
   "source": [
    "df.show()"
   ]
  },
  {
   "cell_type": "markdown",
   "id": "7c5b999c",
   "metadata": {},
   "source": [
    "# Country statistic of covid tweet"
   ]
  },
  {
   "cell_type": "code",
   "execution_count": 9,
   "id": "5491c2ea",
   "metadata": {},
   "outputs": [
    {
     "name": "stderr",
     "output_type": "stream",
     "text": [
      "[Stage 6:==============================>                        (110 + 4) / 200]\r"
     ]
    },
    {
     "name": "stdout",
     "output_type": "stream",
     "text": [
      "+--------------------+-----+\n",
      "|  location_full_name|count|\n",
      "+--------------------+-----+\n",
      "|               India|   10|\n",
      "|       United States|    8|\n",
      "|     Los Angeles, CA|    5|\n",
      "|              Canada|    5|\n",
      "| Waikato New Zealand|    4|\n",
      "|      United Kingdom|    2|\n",
      "|         Chicago, IL|    2|\n",
      "|    Toronto, Ontario|    2|\n",
      "|    Edmonton Alberta|    2|\n",
      "|          Dallas, TX|    2|\n",
      "|Tondiarpet, VadaC...|    2|\n",
      "|            New York|    2|\n",
      "|    New Delhi, India|    2|\n",
      "|Jeju Island, Sout...|    2|\n",
      "|     Washington, USA|    2|\n",
      "|     California, USA|    2|\n",
      "|            Malaysia|    2|\n",
      "|           Australia|    2|\n",
      "|Auckland, New Zea...|    2|\n",
      "|     Toronto, Canada|    2|\n",
      "+--------------------+-----+\n",
      "only showing top 20 rows\n",
      "\n"
     ]
    },
    {
     "name": "stderr",
     "output_type": "stream",
     "text": [
      "\r",
      "[Stage 6:============================================>          (163 + 4) / 200]\r",
      "\r",
      "                                                                                \r"
     ]
    }
   ],
   "source": [
    "df.groupBy('location_full_name').count().orderBy('count', ascending=False).show()"
   ]
  },
  {
   "cell_type": "markdown",
   "id": "34ef95f9",
   "metadata": {},
   "source": [
    "# Hashtags statistic "
   ]
  },
  {
   "cell_type": "code",
   "execution_count": 10,
   "id": "35a1efe0",
   "metadata": {},
   "outputs": [
    {
     "name": "stderr",
     "output_type": "stream",
     "text": [
      "[Stage 8:=====================================================> (193 + 4) / 200]\r"
     ]
    },
    {
     "name": "stdout",
     "output_type": "stream",
     "text": [
      "+--------------------+-----+\n",
      "|                 key|count|\n",
      "+--------------------+-----+\n",
      "|             COVID19|  149|\n",
      "|               COVID|   20|\n",
      "|             Covid19|   16|\n",
      "|             covid19|   15|\n",
      "|               Spain|    6|\n",
      "|         coronavirus|    6|\n",
      "|    VaccinePassports|    6|\n",
      "|               Covid|    6|\n",
      "|             vaccine|    4|\n",
      "|               covid|    4|\n",
      "|           coviddata|    3|\n",
      "|            covid_19|    3|\n",
      "|        smcanalytics|    3|\n",
      "|covidvislualizations|    3|\n",
      "|         Afghanistan|    3|\n",
      "|              Odisha|    3|\n",
      "|           WearAMask|    3|\n",
      "|                 USA|    3|\n",
      "|      MedicareForAll|    2|\n",
      "|              Kerala|    2|\n",
      "+--------------------+-----+\n",
      "only showing top 20 rows\n",
      "\n"
     ]
    },
    {
     "name": "stderr",
     "output_type": "stream",
     "text": [
      "\r",
      "                                                                                \r"
     ]
    }
   ],
   "source": [
    "df.select(F.explode(df.hashTags).alias('tag'))\\\n",
    "    .groupBy(F.col('tag').alias('key'))\\\n",
    "    .count()\\\n",
    "    .orderBy('count', ascending=False)\\\n",
    "    .show()"
   ]
  },
  {
   "cell_type": "markdown",
   "id": "69326a9e",
   "metadata": {},
   "source": [
    "# Clean text and remove stopwords"
   ]
  },
  {
   "cell_type": "code",
   "execution_count": 11,
   "id": "0fdc60cb",
   "metadata": {},
   "outputs": [],
   "source": [
    "from pyspark.ml.feature import Tokenizer, StopWordsRemover\n",
    "from nltk.stem.snowball import SnowballStemmer"
   ]
  },
  {
   "cell_type": "code",
   "execution_count": 12,
   "id": "01aaae04",
   "metadata": {},
   "outputs": [],
   "source": [
    "# Clean and remove hashtag\n",
    "df_clean = df.select('tweetText', (F.lower(F.regexp_replace('tweetText', \"@[A-Za-z0-9_]+\", \"\")).alias('text')))\n",
    "\n",
    "# Tokenize text\n",
    "tokenizer = Tokenizer(inputCol='tweetText', outputCol='words_token')\n",
    "df_words_token = tokenizer.transform(df_clean).select('words_token')\n",
    "\n",
    "# Remove stop words\n",
    "remover = StopWordsRemover(inputCol='words_token', outputCol='words_clean')\n",
    "df_words_no_stopw = remover.transform(df_words_token).select('words_clean')\n",
    "\n",
    "# Stem text\n",
    "stemmer = SnowballStemmer(language='english')\n",
    "stemmer_udf = F.udf(lambda tokens: [stemmer.stem(token) for token in tokens], ArrayType(StringType()))\n",
    "df_stemmed = df_words_no_stopw.withColumn(\"words_stemmed\", stemmer_udf(\"words_clean\")).select('words_stemmed')\n",
    "\n",
    "# Filter length word > 3\n",
    "filter_length_udf = F.udf(lambda row: [x for x in row if len(x) >= 3], ArrayType(StringType()))\n",
    "df_final_words = df_stemmed.withColumn('words', filter_length_udf(F.col('words_stemmed')))"
   ]
  },
  {
   "cell_type": "code",
   "execution_count": 13,
   "id": "8185b535",
   "metadata": {},
   "outputs": [
    {
     "name": "stdout",
     "output_type": "stream",
     "text": [
      "+--------------------+--------------------+\n",
      "|           tweetText|                text|\n",
      "+--------------------+--------------------+\n",
      "|Claiming that's i...|claiming that's i...|\n",
      "|RT @AntonyRobart:...|rt : the debate o...|\n",
      "|RT @EuroELSO: Lat...|rt : latest updat...|\n",
      "|#Most worrisome i...|#most worrisome i...|\n",
      "|RT @DrAmbrishMith...|rt : start the da...|\n",
      "|@KavalAuthorActs ...| take ivermectin ...|\n",
      "|RT @SantaKlauSchw...|rt : a lot of goo...|\n",
      "|RT @SamirShahMD: ...|rt : 💸😟financia...|\n",
      "|RT @mustafahirji:...|rt : but if cases...|\n",
      "|@samanthamaiden @...|    sydney centri...|\n",
      "|RT @AntonyRobart:...|rt : the debate o...|\n",
      "|@Debceecee @NSWHe...|  journalists att...|\n",
      "|RT @JulesBoykoff:...|rt : ❗️198 people...|\n",
      "|RT @SarfarazTooba...|rt : #delaymdcat2...|\n",
      "|@RepJayapal @USPr...|      i can think...|\n",
      "|Thanks to Mo @CMO...|thanks to mo  for...|\n",
      "|RT @Lasterbosire:...|rt : take note,  ...|\n",
      "|The headline of t...|the headline of t...|\n",
      "|@WHO  care about ...|  care about smal...|\n",
      "|RT @portarican_RT...|rt : you blame bi...|\n",
      "+--------------------+--------------------+\n",
      "only showing top 20 rows\n",
      "\n"
     ]
    }
   ],
   "source": [
    "df_clean.show()"
   ]
  },
  {
   "cell_type": "code",
   "execution_count": 14,
   "id": "0cf3ac13",
   "metadata": {},
   "outputs": [
    {
     "name": "stderr",
     "output_type": "stream",
     "text": [
      "\r",
      "[Stage 10:>                                                         (0 + 1) / 1]\r"
     ]
    },
    {
     "name": "stdout",
     "output_type": "stream",
     "text": [
      "+--------------------+--------------------+\n",
      "|       words_stemmed|               words|\n",
      "+--------------------+--------------------+\n",
      "|[claim, western, ...|[claim, western, ...|\n",
      "|[rt, @antonyrobar...|[@antonyrobart:, ...|\n",
      "|[rt, @euroelso:, ...|[@euroelso:, late...|\n",
      "|[#most, worrisom,...|[#most, worrisom,...|\n",
      "|[rt, @drambrishmi...|[@drambrishmithal...|\n",
      "|[@kavalauthoract,...|[@kavalauthoract,...|\n",
      "|[rt, @santaklausc...|[@santaklauschwab...|\n",
      "|[rt, @samirshahmd...|[@samirshahmd:, ?...|\n",
      "|[rt, @mustafahirj...|[@mustafahirji:, ...|\n",
      "|[@samanthamaiden,...|[@samanthamaiden,...|\n",
      "|[rt, @antonyrobar...|[@antonyrobart:, ...|\n",
      "|[@debceece, @nswh...|[@debceece, @nswh...|\n",
      "|[rt, @julesboykof...|[@julesboykoff:, ...|\n",
      "|[rt, @sarfaraztoo...|[@sarfaraztooba1:...|\n",
      "|[@repjayap, @uspr...|[@repjayap, @uspr...|\n",
      "|[thank, mo, @cmo_...|[thank, @cmo_odis...|\n",
      "|[rt, @lasterbosir...|[@lasterbosire:, ...|\n",
      "|[headlin, new, ca...|[headlin, new, ca...|\n",
      "|[@who, , care, sm...|[@who, care, smal...|\n",
      "|[rt, @portarican_...|[@portarican_rt:,...|\n",
      "+--------------------+--------------------+\n",
      "only showing top 20 rows\n",
      "\n"
     ]
    },
    {
     "name": "stderr",
     "output_type": "stream",
     "text": [
      "\r",
      "                                                                                \r"
     ]
    }
   ],
   "source": [
    "df_final_words.show()"
   ]
  },
  {
   "cell_type": "markdown",
   "id": "2ab6a3c3",
   "metadata": {},
   "source": [
    "# Statistic top words"
   ]
  },
  {
   "cell_type": "code",
   "execution_count": 15,
   "id": "22735fb1",
   "metadata": {},
   "outputs": [
    {
     "name": "stderr",
     "output_type": "stream",
     "text": [
      "[Stage 12:============================================>         (163 + 4) / 200]\r"
     ]
    },
    {
     "name": "stdout",
     "output_type": "stream",
     "text": [
      "+---------------+-----+\n",
      "|            key|count|\n",
      "+---------------+-----+\n",
      "|       #covid19|  166|\n",
      "|          death|   58|\n",
      "|          blame|   45|\n",
      "|         vaccin|   37|\n",
      "|          &amp;|   31|\n",
      "|          state|   28|\n",
      "|            new|   27|\n",
      "|         #covid|   23|\n",
      "|        control|   23|\n",
      "|           the…|   23|\n",
      "|       governor|   23|\n",
      "|            red|   22|\n",
      "|           case|   22|\n",
      "|          away,|   22|\n",
      "|          biden|   22|\n",
      "|@portarican_rt:|   22|\n",
      "|           mile|   22|\n",
      "|           8000|   22|\n",
      "|         pandem|   15|\n",
      "|          daili|   15|\n",
      "+---------------+-----+\n",
      "only showing top 20 rows\n",
      "\n"
     ]
    },
    {
     "name": "stderr",
     "output_type": "stream",
     "text": [
      "\r",
      "[Stage 12:================================================>     (181 + 4) / 200]\r",
      "\r",
      "                                                                                \r"
     ]
    }
   ],
   "source": [
    "df_final_words.select(F.explode(df_final_words.words).alias('words'))\\\n",
    "    .groupBy(F.col('words').alias('key'))\\\n",
    "    .count()\\\n",
    "    .orderBy('count', ascending=False)\\\n",
    "    .show()"
   ]
  },
  {
   "cell_type": "code",
   "execution_count": null,
   "id": "59f8f446",
   "metadata": {},
   "outputs": [],
   "source": []
  }
 ],
 "metadata": {
  "kernelspec": {
   "display_name": "Python 3 (ipykernel)",
   "language": "python",
   "name": "python3"
  },
  "language_info": {
   "codemirror_mode": {
    "name": "ipython",
    "version": 3
   },
   "file_extension": ".py",
   "mimetype": "text/x-python",
   "name": "python",
   "nbconvert_exporter": "python",
   "pygments_lexer": "ipython3",
   "version": "3.9.6"
  }
 },
 "nbformat": 4,
 "nbformat_minor": 5
}
