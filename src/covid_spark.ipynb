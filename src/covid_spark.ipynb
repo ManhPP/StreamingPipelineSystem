{
 "cells": [
  {
   "cell_type": "code",
   "execution_count": 63,
   "id": "39fe762c",
   "metadata": {},
   "outputs": [],
   "source": [
    "from pyspark.sql import SparkSession\n",
    "\n",
    "spark = SparkSession\\\n",
    "       .builder\\\n",
    "       .appName(\"test\")\\\n",
    "       .getOrCreate()"
   ]
  },
  {
   "cell_type": "code",
   "execution_count": 92,
   "id": "aea33d28",
   "metadata": {},
   "outputs": [
    {
     "name": "stderr",
     "output_type": "stream",
     "text": [
      "                                                                                \r"
     ]
    }
   ],
   "source": [
    "df = spark.read.json(\"hdfs://namenode:8020/tmp/data/covid19\")"
   ]
  },
  {
   "cell_type": "code",
   "execution_count": 93,
   "id": "7f9c8a20",
   "metadata": {},
   "outputs": [
    {
     "name": "stdout",
     "output_type": "stream",
     "text": [
      "root\n",
      " |-- offset: long (nullable = true)\n",
      " |-- partition: long (nullable = true)\n",
      " |-- timestamp: string (nullable = true)\n",
      " |-- timestampType: long (nullable = true)\n",
      " |-- topic: string (nullable = true)\n",
      " |-- value: string (nullable = true)\n",
      "\n"
     ]
    }
   ],
   "source": [
    "df.printSchema()"
   ]
  },
  {
   "cell_type": "code",
   "execution_count": 97,
   "id": "ef79b71d",
   "metadata": {},
   "outputs": [
    {
     "name": "stdout",
     "output_type": "stream",
     "text": [
      "+--------------------+\n",
      "|               value|\n",
      "+--------------------+\n",
      "|eyJ1c2VySUQiOiAxM...|\n",
      "|eyJ1c2VySUQiOiAxM...|\n",
      "|eyJ1c2VySUQiOiAxM...|\n",
      "|eyJ1c2VySUQiOiAzM...|\n",
      "|eyJ1c2VySUQiOiAxN...|\n",
      "|eyJ1c2VySUQiOiAzM...|\n",
      "|eyJ1c2VySUQiOiAxN...|\n",
      "|eyJ1c2VySUQiOiAzN...|\n",
      "|eyJ1c2VySUQiOiAxM...|\n",
      "|eyJ1c2VySUQiOiAxO...|\n",
      "|eyJ1c2VySUQiOiAxN...|\n",
      "|eyJ1c2VySUQiOiAxM...|\n",
      "|eyJ1c2VySUQiOiAxM...|\n",
      "|eyJ1c2VySUQiOiAxM...|\n",
      "|eyJ1c2VySUQiOiAzM...|\n",
      "|eyJ1c2VySUQiOiA5N...|\n",
      "|eyJ1c2VySUQiOiAyO...|\n",
      "|eyJ1c2VySUQiOiAyM...|\n",
      "|eyJ1c2VySUQiOiA1N...|\n",
      "|eyJ1c2VySUQiOiA0O...|\n",
      "+--------------------+\n",
      "only showing top 20 rows\n",
      "\n"
     ]
    }
   ],
   "source": [
    "df.select('value').show()"
   ]
  },
  {
   "cell_type": "code",
   "execution_count": null,
   "id": "3f09f240",
   "metadata": {},
   "outputs": [],
   "source": []
  }
 ],
 "metadata": {
  "kernelspec": {
   "display_name": "Python 3 (ipykernel)",
   "language": "python",
   "name": "python3"
  },
  "language_info": {
   "codemirror_mode": {
    "name": "ipython",
    "version": 3
   },
   "file_extension": ".py",
   "mimetype": "text/x-python",
   "name": "python",
   "nbconvert_exporter": "python",
   "pygments_lexer": "ipython3",
   "version": "3.9.6"
  }
 },
 "nbformat": 4,
 "nbformat_minor": 5
}
