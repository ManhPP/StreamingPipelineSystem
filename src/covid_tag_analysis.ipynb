{
 "cells": [
  {
   "cell_type": "code",
   "execution_count": 1,
   "id": "9b7a6d88",
   "metadata": {},
   "outputs": [],
   "source": [
    "from pyspark.sql import SparkSession\n",
    "from pyspark.sql import functions as F\n",
    "\n",
    "spark = SparkSession\\\n",
    "       .builder\\\n",
    "       .appName(\"analysis\")\\\n",
    "       .getOrCreate()"
   ]
  },
  {
   "cell_type": "code",
   "execution_count": 2,
   "id": "3daa026c",
   "metadata": {},
   "outputs": [],
   "source": [
    "df = spark.read.json(\"hdfs://namenode:8020/tmp/data/covid\")\n",
    "df = df.withColumn(\"value\", F.from_json(\"value\",schema))\\\n",
    ".select(\"value.userID\", \"value.tweetText\", \"value.hashTags\", \"value.location_full_name\",\n",
    "        \"value.favoriteCount\", \"value.reTweetCount\", \"value.created_at\",)"
   ]
  },
  {
   "cell_type": "code",
   "execution_count": 3,
   "id": "5f23c5cd",
   "metadata": {},
   "outputs": [
    {
     "name": "stdout",
     "output_type": "stream",
     "text": [
      "root\n",
      " |-- created_at: string (nullable = true)\n",
      " |-- favoriteCount: long (nullable = true)\n",
      " |-- hashTags: array (nullable = true)\n",
      " |    |-- element: string (containsNull = true)\n",
      " |-- location_coutry: string (nullable = true)\n",
      " |-- location_full_name: string (nullable = true)\n",
      " |-- reTweetCount: long (nullable = true)\n",
      " |-- tweetText: string (nullable = true)\n",
      " |-- userID: string (nullable = true)\n",
      "\n"
     ]
    }
   ],
   "source": [
    "df.printSchema()"
   ]
  },
  {
   "cell_type": "code",
   "execution_count": 4,
   "id": "844a003f",
   "metadata": {},
   "outputs": [
    {
     "name": "stdout",
     "output_type": "stream",
     "text": [
      "+--------------------+-------------+------------------+------------------+--------------------+------------+------------+------+\n",
      "|          created_at|favoriteCount|          hashTags|   location_coutry|  location_full_name|reTweetCount|   tweetText|userID|\n",
      "+--------------------+-------------+------------------+------------------+--------------------+------------+------------+------+\n",
      "|Thu Aug 26 14:08:...|            1|[#COVID19, #Alpha]| location_coutry 1|location_full_name 1|           1| tweetText 1|     1|\n",
      "|Thu Aug 01 14:08:...|            2| [#COVID19, #Beta]| location_coutry 2|location_full_name 2|           2| tweetText 2|     2|\n",
      "|Thu Aug 02 14:08:...|            3|        [#COVID19]| location_coutry 3|location_full_name 3|           3| tweetText 3|     3|\n",
      "|Thu Aug 03 14:08:...|            4|[#COVID19, #Alpha]| location_coutry 4|location_full_name 4|           4| tweetText 4|     4|\n",
      "|Thu Aug 04 14:08:...|            5| [#COVID19, #Beta]| location_coutry 5|location_full_name 5|           5| tweetText 5|     5|\n",
      "|Thu Aug 06 14:08:...|            6|        [#COVID19]| location_coutry 6|location_full_name 6|           6| tweetText 6|     6|\n",
      "|Thu Aug 07 14:08:...|            7|        [#COVID19]| location_coutry 7|location_full_name 7|           7| tweetText 7|     7|\n",
      "|Thu Aug 26 14:08:...|            8|[#COVID19, #GAMMA]| location_coutry 8|location_full_name 8|           8| tweetText 8|     8|\n",
      "|Thu Aug 26 14:08:...|            9|        [#COVID19]| location_coutry 9|location_full_name 9|           9| tweetText 9|     9|\n",
      "|Thu Aug 07 14:08:...|           10|[#COVID19, #Delta]|location_coutry 10|location_full_nam...|          10|tweetText 10|    10|\n",
      "|Thu Aug 26 14:08:...|           11|        [#COVID19]|location_coutry 11|location_full_nam...|          11|tweetText 11|    11|\n",
      "|Thu Aug 26 14:08:...|           12|        [#COVID19]|location_coutry 12|location_full_nam...|          12|tweetText 12|    12|\n",
      "|Thu Aug 26 14:08:...|           13| [#COVID19, #Beta]|location_coutry 13|location_full_nam...|          13|tweetText 13|    13|\n",
      "|Thu Aug 26 14:08:...|           14|        [#COVID19]|location_coutry 14|location_full_nam...|          14|tweetText 14|    14|\n",
      "|Thu Aug 26 14:08:...|           15| [#COVID19, #Beta]|location_coutry 15|location_full_nam...|          15|tweetText 15|    15|\n",
      "|Thu Aug 01 14:08:...|           16|        [#COVID19]|location_coutry 16|location_full_nam...|          16|tweetText 16|    16|\n",
      "|Thu Aug 02 14:08:...|           17|        [#COVID19]|location_coutry 17|location_full_nam...|          17|tweetText 17|    17|\n",
      "|Thu Aug 26 14:08:...|           18|[#COVID19, #Alpha]|location_coutry 18|location_full_nam...|          18|tweetText 18|    18|\n",
      "|Thu Aug 26 14:08:...|           19|[#COVID19, #Delta]|location_coutry 19|location_full_nam...|          19|tweetText 19|    19|\n",
      "|Thu Aug 26 14:08:...|           20|        [#COVID19]|location_coutry 20|location_full_nam...|          20|tweetText 20|    20|\n",
      "+--------------------+-------------+------------------+------------------+--------------------+------------+------------+------+\n",
      "only showing top 20 rows\n",
      "\n"
     ]
    }
   ],
   "source": [
    "df.show()"
   ]
  },
  {
   "cell_type": "code",
   "execution_count": 9,
   "id": "3cc49f0c",
   "metadata": {},
   "outputs": [],
   "source": [
    "from pyspark.sql.functions import expr\n",
    "rdd = df.selectExpr(\"hashTags\", \"(favoriteCount + reTweetCount * 2) as point\").rdd"
   ]
  },
  {
   "cell_type": "code",
   "execution_count": 10,
   "id": "6422efca",
   "metadata": {},
   "outputs": [],
   "source": [
    "rddFlatMap = rdd.flatMap(lambda x: list(map(lambda y: (y, x.point), x.hashTags)))\n",
    "rddReduce = rddFlatMap.reduceByKey(lambda a,b: a+b)"
   ]
  },
  {
   "cell_type": "code",
   "execution_count": 11,
   "id": "928169ea",
   "metadata": {},
   "outputs": [
    {
     "data": {
      "image/png": "[encoded data removed]",
      "text/plain": [
       "<Figure size 432x288 with 1 Axes>"
      ]
     },
     "metadata": {
      "needs_background": "light"
     },
     "output_type": "display_data"
    }
   ],
   "source": [
    "import matplotlib.pyplot as plt\n",
    "\n",
    "cl = rddReduce.collect()\n",
    "keys = []\n",
    "values = []\n",
    "for e in cl:\n",
    "    keys.append(e[0])\n",
    "    values.append(e[1])\n",
    "plt.bar(keys, values, align='center')\n",
    "plt.show()"
   ]
  },
  {
   "cell_type": "code",
   "execution_count": null,
   "id": "f8d5496a",
   "metadata": {},
   "outputs": [],
   "source": []
  }
 ],
 "metadata": {
  "kernelspec": {
   "display_name": "Python 3",
   "language": "python",
   "name": "python3"
  },
  "language_info": {
   "codemirror_mode": {
    "name": "ipython",
    "version": 3
   },
   "file_extension": ".py",
   "mimetype": "text/x-python",
   "name": "python",
   "nbconvert_exporter": "python",
   "pygments_lexer": "ipython3",
   "version": "3.8.8"
  }
 },
 "nbformat": 4,
 "nbformat_minor": 5
}
